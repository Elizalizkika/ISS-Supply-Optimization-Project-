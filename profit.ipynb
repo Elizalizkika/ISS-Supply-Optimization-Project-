{
 "cells": [
  {
   "cell_type": "code",
   "execution_count": null,
   "metadata": {},
   "outputs": [],
   "source": [
    "import pandas as pd\n",
    "from prophet import Prophet\n",
    "\n",
    "# Load the data\n",
    "url = 'https://raw.githubusercontent.com/Sundarith/csv-file/main/us_weekly_consumable_water_summary_20220102-20230903.csv'\n",
    "data = pd.read_csv(url)\n",
    "\n",
    "# Convert the 'Date' column to datetime format\n",
    "data['Date'] = pd.to_datetime(data['Date'])\n",
    "\n",
    "# Rename columns for Prophet\n",
    "prophet_data = data[['Date', 'Corrected Total (L)']].rename(columns={'Date': 'ds', 'Corrected Total (L)': 'y'})\n",
    "\n",
    "# Initialize and train the Prophet model\n",
    "model = Prophet()\n",
    "model.fit(prophet_data)\n",
    "\n",
    "# Forecast for the next two years\n",
    "future = model.make_future_dataframe(periods=730)  # 2 years = 730 days\n",
    "forecast = model.predict(future)\n",
    "\n",
    "# Plot the forecast\n",
    "fig = model.plot(forecast)\n",
    "\n",
    "# Display the forecast\n",
    "forecast[['ds', 'yhat', 'yhat_lower', 'yhat_upper']].tail()"
   ]
  }
 ],
 "metadata": {
  "language_info": {
   "name": "python"
  }
 },
 "nbformat": 4,
 "nbformat_minor": 2
}
