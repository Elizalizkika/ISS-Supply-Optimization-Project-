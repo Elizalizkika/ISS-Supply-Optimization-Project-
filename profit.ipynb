{
 "cells": [
  {
   "cell_type": "code",
   "execution_count": null,
   "metadata": {},
   "outputs": [],
   "source": [
    "import pandas as pd\n",
    "\n",
    "from prophet import Prophet\n",
    "\n",
    "df = pd.read_csv(r'/Users/apple/Desktop/Barrior/newCSV/us_weekly_consumable_water_summary_20220102-20230903_2.csv')\n",
    "\n",
    "df.columns = ['ds', 'y']\n",
    "df.head()"
   ]
  }
 ],
 "metadata": {
  "language_info": {
   "name": "python"
  }
 },
 "nbformat": 4,
 "nbformat_minor": 2
}
