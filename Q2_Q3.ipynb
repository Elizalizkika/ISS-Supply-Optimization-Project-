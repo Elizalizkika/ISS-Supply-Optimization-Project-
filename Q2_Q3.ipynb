{
 "cells": [
  {
   "cell_type": "code",
   "execution_count": 1,
   "metadata": {},
   "outputs": [
    {
     "name": "stdout",
     "output_type": "stream",
     "text": [
      "number of daays til next dock\n",
      " [4, 25, 22, 18, 24, 13, 43, 67, 15, 22, 12, 18, 76, 15, 5, 13, 67, 2, 13, 59, 21, 2, 19, 48, 29, 41, 10, 10, 17, 2, 15, 8, 30, 22, 7, 22, 29, 35, 16, 6, 14, 9, 44, 33, 4, 22, 1, 34, 3, 19, 17, 62, 4, 27, 48, 2, 29, 7, 25, 28, 25, 25]\n"
     ]
    }
   ],
   "source": [
    "import pandas as pd\n",
    "import datetime as dt\n",
    "\n",
    "#grab flight plan\n",
    "flight_plan = pd.read_csv(r'C:\\Users\\cicic\\OneDrive\\Desktop\\Barrios_Project\\barrios\\iss-data\\csv\\iss_flight_plan_20220101-20251231.csv')\n",
    "\n",
    "#query to only use dates where the event is dock and convert it to a list\n",
    "dock_days_list = flight_plan[flight_plan['event'] == 'Dock']['datedim'].to_list()\n",
    "\n",
    "#convert list of date strings into a list of datetime objects\n",
    "dates_list = [dt.datetime.strptime(date, '%m/%d/%Y').date() for date in dock_days_list]\n",
    "\n",
    "#print the days difference between each date\n",
    "num_days = pd.Series(dates_list).diff().dt.days.iloc[1:].astype(int).tolist()\n",
    "print(\"number of daays til next dock\\n\",num_days)\n",
    "\n",
    "\n"
   ]
  },
  {
   "cell_type": "code",
   "execution_count": 2,
   "metadata": {},
   "outputs": [
    {
     "name": "stdout",
     "output_type": "stream",
     "text": [
      "number of crew per docking\n",
      " [7, 7, 10, 11, 11, 7, 7, 7, 10, 11, 7, 7, 7, 7, 7, 11, 7, 11, 11, 7, 7, 7, 11, 10, 7, 7, 11, 11, 7, 7, 11, 7, 10, 9, 7, 11, 7, 7, 11, 7, 7, 10, 10, 11, 7, 7, 7, 7, 7, 11, 7, 10, 11, 11, 7, 7, 11, 7, 10, 7, 7, 11, 7]\n"
     ]
    }
   ],
   "source": [
    "#grab crew members per dock\n",
    "crewF = pd.read_csv(r'C:\\Users\\cicic\\OneDrive\\Desktop\\Barrios_Project\\barrios\\iss-data\\csv\\iss_flight_plan_crew_20220101-20251321.csv')\n",
    "\n",
    "crew_per_dock = []\n",
    "\n",
    "for i, date in enumerate(dock_days_list):\n",
    "    crewNum = crewF[crewF['datedim'] == date]['crew_count'].tolist()\n",
    "    Amount = sum(crewNum)\n",
    "    crew_per_dock.append(Amount)\n",
    "\n",
    "#number of crew members on board during each dock\n",
    "print(\"number of crew per docking\\n\",crew_per_dock)\n"
   ]
  },
  {
   "cell_type": "code",
   "execution_count": 3,
   "metadata": {},
   "outputs": [
    {
     "name": "stdout",
     "output_type": "stream",
     "text": [
      "['Liters/Day', 'Liters/Crew/Day', 'Liters/Crew/Day', 'Liters/Day', 'Liters/Day', 'Liters/Day', 'Liters/Day']\n",
      "True\n",
      "Consumable used =  16.84\n",
      "Consumable generated =  23.549999999999997\n"
     ]
    }
   ],
   "source": [
    "#grab rates\n",
    "rater = pd.read_csv(r'C:\\Users\\cicic\\OneDrive\\Desktop\\Barrios_Project\\barrios\\iss-data\\csv\\rates_definition.csv')\n",
    "\n",
    "\n",
    "#consumable must match a consumable on the rates csv. case sensitive.\n",
    "consumable = 'Pretreat Tanks'\n",
    "consumable = 'Air'\n",
    "consumable = 'Water'\n",
    "\n",
    "\n",
    "#sum of generated\n",
    "sum_generated = sum(rater[(rater['affected_consumable'] == consumable) & (rater['type'] == 'generation')]['rate'].to_list())\n",
    "\n",
    "#grabs the usage rate of consumable and sums it up\n",
    "sum_usage = sum(rater[(rater['affected_consumable'] == consumable) & (rater['type'] == 'usage')]['rate'].to_list())\n",
    "\n",
    "#if units contains 'crew'\n",
    "crew_check = rater[rater['affected_consumable'] == consumable]['units'].tolist()\n",
    "combine =  '\\t'.join(crew_check)\n",
    "\n",
    "print(crew_check)\n",
    "if 'Crew' in combine:\n",
    "    per_crew = True\n",
    "else:\n",
    "    per_crew = False\n",
    "\n",
    "print(per_crew)\n",
    "\n",
    "#prints\n",
    "print(\"Consumable used = \", sum_usage)\n",
    "print(\"Consumable generated = \", sum_generated)\n",
    "#net_consumable = sum_generated - sum_usage\n",
    "#print(\"net consumable per day= \", net_consumable)\n",
    "\n"
   ]
  },
  {
   "cell_type": "code",
   "execution_count": 4,
   "metadata": {},
   "outputs": [
    {
     "name": "stdout",
     "output_type": "stream",
     "text": [
      "[377.32, 2358.25, 3186.7000000000007, 2910.42, 3880.56, 1226.29, 4056.19, 6320.11, 2172.7500000000005, 3557.18, 1131.96, 1697.94, 7169.08, 1414.95, 471.65, 2101.97, 6320.11, 323.38, 2101.97, 5565.47, 1980.93, 188.66, 3072.11, 6952.800000000001, 2735.57, 3867.5299999999997, 1616.9, 1616.9, 1603.61, 188.66, 2425.35, 754.64, 4345.500000000001, 2816.22, 660.31, 3557.18, 2735.57, 3301.5499999999997, 2587.04, 565.98, 1320.62, 1303.65, 6373.4000000000015, 5335.7699999999995, 377.32, 2075.2599999999998, 94.33, 3207.22, 282.99, 3072.11, 1603.61, 8980.7, 646.76, 4365.63, 4527.84, 188.66, 4689.01, 660.31, 3621.2500000000005, 2641.24, 2358.25, 4042.25]\n",
      "[377, 2358, 3187, 2910, 3881, 1226, 4056, 6320, 2173, 3557, 1132, 1698, 7169, 1415, 472, 2102, 6320, 323, 2102, 5566, 1981, 188, 3072, 6953, 2736, 3867, 1617, 1617, 1604, 188, 2426, 754, 4346, 2816, 660, 3558, 2735, 3302, 2587, 566, 1320, 1304, 6373, 5336, 378, 2075, 94, 3207, 283, 3072, 1604, 8981, 647, 4365, 4528, 189, 4689, 660, 3621, 2641, 2359, 4042]\n"
     ]
    }
   ],
   "source": [
    "import math\n",
    "\n",
    "#create a list of base rates \n",
    "listofrates = [sum_usage] * len(dock_days_list)\n",
    "consumable_to_send = []\n",
    "current_sum = 0\n",
    "res_list = []\n",
    "\n",
    "if(per_crew): #if percrew true change the list of rates\n",
    "    for i in range(0, len(listofrates)):\n",
    "        res_list.append(listofrates[i] * crew_per_dock[i])\n",
    "else:\n",
    "    res_list = listofrates\n",
    "\n",
    "#match length and subtract the amount generated to get proper list of rates   \n",
    "res_list.pop()\n",
    "res_list = [x - sum_generated for x in res_list]\n",
    "\n",
    "intermediate = []\n",
    "for i in range(0, len(res_list)):\n",
    "    intermediate.append(res_list[i] * num_days[i])\n",
    "print (intermediate)\n",
    "\n",
    "#rounding\n",
    "for i, value in enumerate(intermediate):\n",
    "    current_sum+=value\n",
    "    consumable_to_send.append(math.trunc(current_sum))\n",
    "    current_sum = current_sum - math.trunc(current_sum)\n",
    "print(consumable_to_send)\n",
    "    \n"
   ]
  },
  {
   "cell_type": "code",
   "execution_count": 5,
   "metadata": {},
   "outputs": [
    {
     "data": {
      "text/html": [
       "<div>\n",
       "<style scoped>\n",
       "    .dataframe tbody tr th:only-of-type {\n",
       "        vertical-align: middle;\n",
       "    }\n",
       "\n",
       "    .dataframe tbody tr th {\n",
       "        vertical-align: top;\n",
       "    }\n",
       "\n",
       "    .dataframe thead th {\n",
       "        text-align: right;\n",
       "    }\n",
       "</style>\n",
       "<table border=\"1\" class=\"dataframe\">\n",
       "  <thead>\n",
       "    <tr style=\"text-align: right;\">\n",
       "      <th></th>\n",
       "      <th>Docking Days</th>\n",
       "      <th>Amount of Consumable to Send</th>\n",
       "    </tr>\n",
       "  </thead>\n",
       "  <tbody>\n",
       "    <tr>\n",
       "      <th>0</th>\n",
       "      <td>2/17/2022</td>\n",
       "      <td>377</td>\n",
       "    </tr>\n",
       "    <tr>\n",
       "      <th>1</th>\n",
       "      <td>2/21/2022</td>\n",
       "      <td>2358</td>\n",
       "    </tr>\n",
       "    <tr>\n",
       "      <th>2</th>\n",
       "      <td>3/18/2022</td>\n",
       "      <td>3187</td>\n",
       "    </tr>\n",
       "    <tr>\n",
       "      <th>3</th>\n",
       "      <td>4/9/2022</td>\n",
       "      <td>2910</td>\n",
       "    </tr>\n",
       "    <tr>\n",
       "      <th>4</th>\n",
       "      <td>4/27/2022</td>\n",
       "      <td>3881</td>\n",
       "    </tr>\n",
       "    <tr>\n",
       "      <th>...</th>\n",
       "      <td>...</td>\n",
       "      <td>...</td>\n",
       "    </tr>\n",
       "    <tr>\n",
       "      <th>57</th>\n",
       "      <td>9/3/2025</td>\n",
       "      <td>660</td>\n",
       "    </tr>\n",
       "    <tr>\n",
       "      <th>58</th>\n",
       "      <td>9/10/2025</td>\n",
       "      <td>3621</td>\n",
       "    </tr>\n",
       "    <tr>\n",
       "      <th>59</th>\n",
       "      <td>10/5/2025</td>\n",
       "      <td>2641</td>\n",
       "    </tr>\n",
       "    <tr>\n",
       "      <th>60</th>\n",
       "      <td>11/2/2025</td>\n",
       "      <td>2359</td>\n",
       "    </tr>\n",
       "    <tr>\n",
       "      <th>61</th>\n",
       "      <td>11/27/2025</td>\n",
       "      <td>4042</td>\n",
       "    </tr>\n",
       "  </tbody>\n",
       "</table>\n",
       "<p>62 rows × 2 columns</p>\n",
       "</div>"
      ],
      "text/plain": [
       "   Docking Days  Amount of Consumable to Send\n",
       "0     2/17/2022                           377\n",
       "1     2/21/2022                          2358\n",
       "2     3/18/2022                          3187\n",
       "3      4/9/2022                          2910\n",
       "4     4/27/2022                          3881\n",
       "..          ...                           ...\n",
       "57     9/3/2025                           660\n",
       "58    9/10/2025                          3621\n",
       "59    10/5/2025                          2641\n",
       "60    11/2/2025                          2359\n",
       "61   11/27/2025                          4042\n",
       "\n",
       "[62 rows x 2 columns]"
      ]
     },
     "metadata": {},
     "output_type": "display_data"
    }
   ],
   "source": [
    "##RUN ALL or this wont work\n",
    "dock_days_list.pop()\n",
    "\n",
    "readable = pd.DataFrame(\n",
    "    {'Docking Days': dock_days_list,\n",
    "     'Amount of Consumable to Send': consumable_to_send\n",
    "    })\n",
    "\n",
    "display(readable)"
   ]
  }
 ],
 "metadata": {
  "kernelspec": {
   "display_name": "venv",
   "language": "python",
   "name": "python3"
  },
  "language_info": {
   "codemirror_mode": {
    "name": "ipython",
    "version": 3
   },
   "file_extension": ".py",
   "mimetype": "text/x-python",
   "name": "python",
   "nbconvert_exporter": "python",
   "pygments_lexer": "ipython3",
   "version": "3.10.1"
  }
 },
 "nbformat": 4,
 "nbformat_minor": 2
}
